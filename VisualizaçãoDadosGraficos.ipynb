{
  "cells": [
    {
      "cell_type": "markdown",
      "metadata": {
        "id": "view-in-github",
        "colab_type": "text"
      },
      "source": [
        "<a href=\"https://colab.research.google.com/github/lelemaia/Visualiza-oDadosGraficos/blob/main/Visualiza%C3%A7%C3%A3oDadosGraficos.ipynb\" target=\"_parent\"><img src=\"https://colab.research.google.com/assets/colab-badge.svg\" alt=\"Open In Colab\"/></a>"
      ]
    },
    {
      "cell_type": "markdown",
      "id": "93dd810a",
      "metadata": {
        "id": "93dd810a"
      },
      "source": [
        "# **Visualização de Dados**\n",
        "\n",
        "Nesta aula iremos aprender a plotar gráficos utilizando bibliotecas Python.\n",
        "\n",
        "Além de olhar na documentação das bibliotecas como fazer aquilo que queremos precisamos treinar nossa capacidade analítica para entender gráficos e saber propor as melhores visualizações.\n",
        "\n",
        "\n",
        "\n",
        "\n",
        "\n"
      ]
    },
    {
      "cell_type": "code",
      "execution_count": null,
      "id": "17594dc7",
      "metadata": {
        "id": "17594dc7"
      },
      "outputs": [],
      "source": [
        "import numpy as np               # Para trabalhar com números, vetores, matrizes e funções matemáticas\n",
        "import matplotlib.pyplot as plt  # Para trabalhar com gráficos\n",
        "import seaborn as sns            # Para importar os graficos"
      ]
    },
    {
      "cell_type": "code",
      "execution_count": null,
      "id": "1762dff9",
      "metadata": {
        "id": "1762dff9"
      },
      "outputs": [],
      "source": [
        "# Essa parte pode não mostrar\n",
        "# Definindo uma função linear arbitraria (perceba que a=4 e b=5)\n",
        "def func_linear(x): return(4*x-5)\n",
        "\n",
        "x = np.array([i for i in range(-50,50)]) \n",
        "\n",
        "## Adidionando um ruído branco nos dados\n",
        "mean_noise = 0\n",
        "sigma_x = 25\n",
        "y = func_linear(x) + np.random.normal(mean_noise,sigma_x, len(x))\n",
        "\n",
        "\n",
        "# Definindo uma função linear arbitraria (perceba que a=4 e b=5)\n",
        "def func_quadratica(x): return(0.5*x**2-5*x+50)\n",
        "\n",
        "## Adidionando um ruído branco nos dados\n",
        "mean_noise = 0\n",
        "sigma_x = 225\n",
        "z = func_quadratica(x) + np.random.normal(mean_noise,sigma_x, len(x))\n",
        "\n",
        "\n",
        "linhas = [str(int(x[i]))+';'+str(int(y[i]))+';'+str(int(z[i]))+'\\n' for i in range(0, len(x))]\n",
        "    \n",
        "    \n",
        "with open('dados1.txt', 'w') as file:\n",
        "    file.writelines(linhas)"
      ]
    },
    {
      "cell_type": "markdown",
      "id": "b0eae3e5",
      "metadata": {
        "id": "b0eae3e5"
      },
      "source": [
        "# Carregando dados de um arquivo txt:\n",
        "\n",
        "\n"
      ]
    },
    {
      "cell_type": "code",
      "execution_count": null,
      "id": "17b9ea41",
      "metadata": {
        "id": "17b9ea41"
      },
      "outputs": [],
      "source": [
        "# Carregando o arquivo\n",
        "with open('dados1.txt', 'r') as file:\n",
        "    dados = file.readlines()"
      ]
    },
    {
      "cell_type": "code",
      "source": [
        "dados"
      ],
      "metadata": {
        "id": "rEeWj0A-oZP5"
      },
      "id": "rEeWj0A-oZP5",
      "execution_count": null,
      "outputs": []
    },
    {
      "cell_type": "code",
      "execution_count": null,
      "id": "8d285e3f",
      "metadata": {
        "id": "8d285e3f"
      },
      "outputs": [],
      "source": [
        "# Passando os dados para vetores\n",
        "X = []\n",
        "Y = []\n",
        "Z = []\n",
        "\n",
        "for linha in dados:\n",
        "    X.append(float(linha.split(';')[0]))\n",
        "    Y.append(float(linha.split(';')[1]))\n",
        "    Z.append(float(linha.split(';')[2].replace('\\n','')))"
      ]
    },
    {
      "cell_type": "code",
      "execution_count": null,
      "id": "ddaa63a7",
      "metadata": {
        "id": "ddaa63a7"
      },
      "outputs": [],
      "source": [
        "# Transformando em vetores do numpy\n",
        "\n",
        "x = np.array(X)\n",
        "y = np.array(Y)\n",
        "z = np.array(Z)"
      ]
    },
    {
      "cell_type": "markdown",
      "id": "6e13cd8c",
      "metadata": {
        "id": "6e13cd8c"
      },
      "source": [
        "# Distribuição\n",
        "\n",
        "A distribuição é um gráfico de barras, bidimensional (2D), de **uma única variável**, onde o eixo X é a variável  (atributo) que se está estudando e o eixo Y é a quantidade de vezes que um determinado valor do atributo aparece nos dados.\n",
        "\n",
        "Ela é útil para nos dizer como os valores do nosso atributo estão distribuídos, se de maneira concetranda em torno de uma média ou de maneira uniforme por toda a faixa de valores. Inclusive nos permite saber se temos mais de uma média nos dados, indicando que é possível fazer uma separação dos dados."
      ]
    },
    {
      "cell_type": "code",
      "execution_count": null,
      "id": "ddaa02e3",
      "metadata": {
        "scrolled": false,
        "id": "ddaa02e3",
        "colab": {
          "base_uri": "https://localhost:8080/",
          "height": 276
        },
        "outputId": "060c1524-5729-4437-b64f-3cfe7a3b391d"
      },
      "outputs": [
        {
          "output_type": "display_data",
          "data": {
            "text/plain": [
              "<Figure size 1152x432 with 3 Axes>"
            ],
            "image/png": "[encoded data removed]"
          },
          "metadata": {
            "needs_background": "light"
          }
        }
      ],
      "source": [
        "n_bins = 20\n",
        "\n",
        "# Estamos criando uma figura e os eixos associados a ela\n",
        "# O subplot permite fazer mais de uma gráfico junto, neste caso 2\n",
        "# Cada subplot fica atribuído um eixo no vetor axs.\n",
        "# Basta acessar o vetor axs para chamar algum método\n",
        "fig, axs = plt.subplots(1, 3)\n",
        "\n",
        "fig.set_size_inches(16, 6)\n",
        "\n",
        "axs[0].hist(x, bins=n_bins) # Aqui estamos chamando o método .hist para plotar um histograma\n",
        "axs[1].hist(y, bins=n_bins)\n",
        "axs[2].hist(z, bins=n_bins)\n",
        "\n",
        "# Aqui estamos explicitamente dando nome aos eixos do gráfico\n",
        "axs[0].set_xlabel('x')\n",
        "axs[1].set_xlabel('y')\n",
        "axs[2].set_xlabel('z')\n",
        "axs[0].set_ylabel('Contagem')\n",
        "axs[1].set_ylabel('Contagem')\n",
        "axs[2].set_ylabel('Contagem')\n",
        "\n",
        "# Colocando grid\n",
        "axs[0].grid()\n",
        "axs[1].grid()\n",
        "axs[2].grid()\n",
        "\n",
        "# Vamos aumentar a separação entre os gráficos\n",
        "plt.subplots_adjust(wspace = 0.35)\n",
        "\n",
        "# OBS: histogramas são curvas de distribuição discretas"
      ]
    },
    {
      "cell_type": "markdown",
      "id": "36f86cc0",
      "metadata": {
        "id": "36f86cc0"
      },
      "source": [
        "# Vejamos como fazer o mesmo gráfico usando o Seaborn."
      ]
    },
    {
      "cell_type": "code",
      "execution_count": null,
      "id": "a52fefb1",
      "metadata": {
        "id": "a52fefb1"
      },
      "outputs": [],
      "source": [
        "import seaborn as sns"
      ]
    },
    {
      "cell_type": "code",
      "execution_count": null,
      "id": "f03a4691",
      "metadata": {
        "id": "f03a4691"
      },
      "outputs": [],
      "source": [
        "ax = sns.displot(data=x,\n",
        "                 kde=True,\n",
        "                 facet_kws = dict(margin_titles=True,despine=False),\n",
        "                 bins=n_bins, \n",
        "                 linewidth=0.7,\n",
        "                )\n",
        "\n",
        "ax.set(xlabel='x', ylabel='Contagem', title='Distribuição')"
      ]
    },
    {
      "cell_type": "code",
      "execution_count": null,
      "id": "56fde38a",
      "metadata": {
        "id": "56fde38a"
      },
      "outputs": [],
      "source": [
        "ax = sns.displot(data=y,\n",
        "                 #hist=True,\n",
        "                 kde=True,\n",
        "                 facet_kws = dict(margin_titles=True,despine=False),\n",
        "                 bins=n_bins, \n",
        "                 linewidth=0.7,\n",
        "                )\n",
        "\n",
        "ax.set(xlabel='y', ylabel='Contagem', title='Distribuição')"
      ]
    },
    {
      "cell_type": "code",
      "execution_count": null,
      "id": "ecaf4136",
      "metadata": {
        "id": "ecaf4136"
      },
      "outputs": [],
      "source": [
        "ax = sns.displot(data=z,\n",
        "                 #hist=True,\n",
        "                 kde=True,\n",
        "                 facet_kws = dict(margin_titles=True,despine=False),\n",
        "                 bins=n_bins, \n",
        "                 linewidth=0.7,\n",
        "                )\n",
        "\n",
        "ax.set(xlabel='z', ylabel='Contagem', title='Distribuição')"
      ]
    },
    {
      "cell_type": "code",
      "execution_count": null,
      "id": "aaef95b4",
      "metadata": {
        "id": "aaef95b4"
      },
      "outputs": [],
      "source": [
        "sns.displot(data={'x':x,'y':y, 'z':z},\n",
        "            kde=True,\n",
        "            facet_kws = dict(margin_titles=True,despine=False),\n",
        "            linewidth=0.7\n",
        "           )\n",
        "\n",
        "ax.set(xlabel='valor da variável', ylabel='Contagem', title='Distribuição')"
      ]
    },
    {
      "cell_type": "markdown",
      "id": "2747ed1a",
      "metadata": {
        "id": "2747ed1a"
      },
      "source": [
        "# Densidade Acumulada (ou Distribuição Acumulada)\n",
        "\n",
        "\n",
        "A densidade acumulada é uma forma de ver a distribuição dos dados no qual o eixo x está ordenado. No eixo y de vez de colocarmos as contagens, colocamos a proporção das contagem sendo que o total é 1 (100%)."
      ]
    },
    {
      "cell_type": "code",
      "execution_count": null,
      "id": "78e58a2e",
      "metadata": {
        "id": "78e58a2e"
      },
      "outputs": [],
      "source": [
        "ax = sns.displot(data={'x':x,'y':y, 'z':z},\n",
        "            kind=\"ecdf\",\n",
        "            facet_kws = dict(margin_titles=True,despine=False),\n",
        "            linewidth=2)\n",
        "\n",
        "ax.set(xlabel='valor da variável', ylabel='Proporção do Total', title='Densidade Acumulada')"
      ]
    },
    {
      "cell_type": "markdown",
      "id": "6ba7894a",
      "metadata": {
        "id": "6ba7894a"
      },
      "source": [
        "# Dispersão\n",
        "\n",
        "Dispersão é um gráfico onde temos duas variáveis (atributos). Queremos saber se existe alguma relação entre elas, isto é, se um depende da outra de alguma maneira, formando algum tipo de curva matemática que possamos descobrir ou utilizar para fazer predições."
      ]
    },
    {
      "cell_type": "code",
      "execution_count": null,
      "id": "2ddc6302",
      "metadata": {
        "id": "2ddc6302"
      },
      "outputs": [],
      "source": [
        "fig, ax = plt.subplots(1,2)\n",
        "\n",
        "# Tamanho do gráfico\n",
        "fig.set_size_inches(16, 6)\n",
        "\n",
        "# Plot de dispersão (scatter)\n",
        "ax[0].scatter(x, y, c='blue', alpha=0.5)\n",
        "ax[1].scatter(x, z, c='green', alpha=0.5)\n",
        "\n",
        "# Aqui estamos explicitamente dando nome aos eixos do gráfico\n",
        "ax[0].set_xlabel('x')\n",
        "ax[1].set_xlabel('x')\n",
        "ax[0].set_ylabel('y')\n",
        "ax[1].set_ylabel('z')\n",
        "\n",
        "# Colocando grid\n",
        "ax[0].grid()\n",
        "ax[1].grid()\n",
        "\n",
        "# Arrumando os limites dos gráficos\n",
        "ax[0].set_xlim([-75,75])\n",
        "ax[0].set_ylim([-250,250])\n",
        "ax[1].set_xlim([-75,75])\n",
        "ax[1].set_ylim([-600,2000])\n",
        "\n",
        "# Vamos aumentar a separação entre os gráficos\n",
        "plt.subplots_adjust(wspace = 0.25)\n",
        "\n",
        "# Aumentando o tamanho da fonte (letra)\n",
        "plt.rcParams.update({'font.size': 12})"
      ]
    },
    {
      "cell_type": "code",
      "execution_count": null,
      "id": "70474106",
      "metadata": {
        "id": "70474106"
      },
      "outputs": [],
      "source": [
        "# Fazendo ambos no mesmo plot\n",
        "\n",
        "plt.scatter(x, y, c='blue', alpha=0.5)\n",
        "plt.scatter(x, z, c='red', alpha=0.5)\n",
        "plt.xlabel('x')\n",
        "plt.ylabel('valor')\n",
        "plt.legend(['y','z'])\n",
        "plt.xlim([-75,75])\n",
        "plt.ylim([-600,2000])\n",
        "plt.grid()"
      ]
    },
    {
      "cell_type": "code",
      "execution_count": null,
      "id": "e9e38d0d",
      "metadata": {
        "id": "e9e38d0d"
      },
      "outputs": [],
      "source": [
        "# Fazendo ambos no mesmo plot\n",
        "\n",
        "plt.scatter(y, z, c='green', alpha=0.5)\n",
        "plt.xlabel('y')\n",
        "plt.ylabel('z')\n",
        "plt.xlim([-250,250])\n",
        "plt.ylim([-600,2000])\n",
        "plt.grid()"
      ]
    },
    {
      "cell_type": "code",
      "source": [
        "dados.plot.scatter(x='sepal length (cm)',\n",
        "                   y='sepal width (cm)'\n",
        "                  )"
      ],
      "metadata": {
        "id": "Va_UI5OdqExz",
        "outputId": "8613929e-5264-4135-8986-289bd8541af5",
        "colab": {
          "base_uri": "https://localhost:8080/",
          "height": 200
        }
      },
      "id": "Va_UI5OdqExz",
      "execution_count": null,
      "outputs": [
        {
          "output_type": "error",
          "ename": "AttributeError",
          "evalue": "ignored",
          "traceback": [
            "\u001b[0;31m---------------------------------------------------------------------------\u001b[0m",
            "\u001b[0;31mAttributeError\u001b[0m                            Traceback (most recent call last)",
            "\u001b[0;32m<ipython-input-80-01bb89cfc92c>\u001b[0m in \u001b[0;36m<module>\u001b[0;34m\u001b[0m\n\u001b[0;32m----> 1\u001b[0;31m dados.plot.scatter(x='sepal length (cm)',\n\u001b[0m\u001b[1;32m      2\u001b[0m                    \u001b[0my\u001b[0m\u001b[0;34m=\u001b[0m\u001b[0;34m'sepal width (cm)'\u001b[0m\u001b[0;34m\u001b[0m\u001b[0;34m\u001b[0m\u001b[0m\n\u001b[1;32m      3\u001b[0m                   )\n",
            "\u001b[0;31mAttributeError\u001b[0m: 'list' object has no attribute 'plot'"
          ]
        }
      ]
    },
    {
      "cell_type": "markdown",
      "id": "e4e1e86d",
      "metadata": {
        "id": "e4e1e86d"
      },
      "source": [
        "# Dispersão e Distribuição"
      ]
    },
    {
      "cell_type": "code",
      "execution_count": null,
      "id": "ea5b0dba",
      "metadata": {
        "id": "ea5b0dba",
        "colab": {
          "base_uri": "https://localhost:8080/",
          "height": 377
        },
        "outputId": "3daea57f-c40e-405d-f5d1-a3b721d24891"
      },
      "outputs": [
        {
          "output_type": "execute_result",
          "data": {
            "text/plain": [
              "<seaborn.axisgrid.JointGrid at 0x7f34a8d53b10>"
            ]
          },
          "metadata": {},
          "execution_count": 61
        },
        {
          "output_type": "display_data",
          "data": {
            "text/plain": [
              "<Figure size 360x360 with 3 Axes>"
            ],
            "image/png": "[encoded data removed]"
          },
          "metadata": {
            "needs_background": "light"
          }
        }
      ],
      "source": [
        "sns.jointplot(data={'x':x,'y':y, 'z':z},\n",
        "              x=\"x\",\n",
        "              y=\"y\",\n",
        "              height=5, \n",
        "              ratio=2,\n",
        "              marginal_ticks=True,\n",
        "              kind=\"reg\"\n",
        "             )"
      ]
    },
    {
      "cell_type": "code",
      "execution_count": null,
      "id": "8b2a01f8",
      "metadata": {
        "id": "8b2a01f8",
        "colab": {
          "base_uri": "https://localhost:8080/",
          "height": 377
        },
        "outputId": "091677c9-c97a-400f-ad1b-e8e4b6f2506a"
      },
      "outputs": [
        {
          "output_type": "execute_result",
          "data": {
            "text/plain": [
              "<seaborn.axisgrid.JointGrid at 0x7f34a8a20050>"
            ]
          },
          "metadata": {},
          "execution_count": 62
        },
        {
          "output_type": "display_data",
          "data": {
            "text/plain": [
              "<Figure size 360x360 with 3 Axes>"
            ],
            "image/png": "[encoded data removed]"
          },
          "metadata": {
            "needs_background": "light"
          }
        }
      ],
      "source": [
        "sns.jointplot(data={'x':x,'y':y, 'z':z},\n",
        "              x=\"x\",\n",
        "              y=\"z\",\n",
        "              height=5, \n",
        "              ratio=2,\n",
        "              marginal_ticks=True,\n",
        "              kind=\"reg\"\n",
        "             )"
      ]
    },
    {
      "cell_type": "markdown",
      "id": "971759bb",
      "metadata": {
        "id": "971759bb"
      },
      "source": [
        "\n",
        "---"
      ]
    },
    {
      "cell_type": "markdown",
      "id": "6171759b",
      "metadata": {
        "id": "6171759b"
      },
      "source": [
        "# **EXERCICIOS**\n",
        "\n",
        "Dados :"
      ]
    },
    {
      "cell_type": "code",
      "execution_count": null,
      "id": "ce2131bd",
      "metadata": {
        "id": "ce2131bd"
      },
      "outputs": [],
      "source": [
        "idades = [20,12,15,30,15,13,14,12,10,12,14,19,5]\n",
        "alturas = [1.80,1.59,1.65,1.69,1.72,1.45,2,1.70,1.67,1.78,1.90,1.85,1.54]\n",
        "sexo = ['M','F','M','F','M','F','M','F','M','F','M','F','M']"
      ]
    },
    {
      "cell_type": "code",
      "execution_count": null,
      "id": "c4dca552",
      "metadata": {
        "id": "c4dca552"
      },
      "outputs": [],
      "source": [
        "len(idades), len(alturas), len(sexo)"
      ]
    },
    {
      "cell_type": "markdown",
      "id": "9bf13b17",
      "metadata": {
        "id": "9bf13b17"
      },
      "source": [
        "# Estatística"
      ]
    },
    {
      "cell_type": "code",
      "source": [
        "import numpy as np"
      ],
      "metadata": {
        "id": "Rzw3KU_nBfQu"
      },
      "id": "Rzw3KU_nBfQu",
      "execution_count": null,
      "outputs": []
    },
    {
      "cell_type": "code",
      "execution_count": null,
      "id": "c20d3a20",
      "metadata": {
        "id": "c20d3a20"
      },
      "outputs": [],
      "source": [
        "np.mean(idades)"
      ]
    },
    {
      "cell_type": "code",
      "source": [
        "np.mean(alturas)"
      ],
      "metadata": {
        "id": "DIJZgJ6TBOFA"
      },
      "id": "DIJZgJ6TBOFA",
      "execution_count": null,
      "outputs": []
    },
    {
      "cell_type": "code",
      "source": [
        "sexo.count('M'), sexo.count(\"F\")"
      ],
      "metadata": {
        "id": "aOpVAGomBRaf"
      },
      "id": "aOpVAGomBRaf",
      "execution_count": null,
      "outputs": []
    },
    {
      "cell_type": "code",
      "source": [
        "np.std(idades)"
      ],
      "metadata": {
        "id": "DY12kNraBoye"
      },
      "id": "DY12kNraBoye",
      "execution_count": null,
      "outputs": []
    },
    {
      "cell_type": "code",
      "source": [
        "np.std(alturas)"
      ],
      "metadata": {
        "id": "eSiwnkgABaAH"
      },
      "id": "eSiwnkgABaAH",
      "execution_count": null,
      "outputs": []
    },
    {
      "cell_type": "markdown",
      "id": "2e846695",
      "metadata": {
        "id": "2e846695"
      },
      "source": [
        "# Graficos De Distribuição"
      ]
    },
    {
      "cell_type": "code",
      "source": [
        "import seaborn as sns"
      ],
      "metadata": {
        "id": "YMUcmXPRHC6y"
      },
      "id": "YMUcmXPRHC6y",
      "execution_count": null,
      "outputs": []
    },
    {
      "cell_type": "markdown",
      "source": [
        "*Grafico de Distribuição idade:*"
      ],
      "metadata": {
        "id": "fwf-a3AZE-eN"
      },
      "id": "fwf-a3AZE-eN"
    },
    {
      "cell_type": "code",
      "execution_count": null,
      "metadata": {
        "id": "MI0VUHvmDfcr",
        "colab": {
          "base_uri": "https://localhost:8080/",
          "height": 416
        },
        "outputId": "58e103a2-a82c-43f3-9c7f-7fa4ca34a219"
      },
      "outputs": [
        {
          "output_type": "execute_result",
          "data": {
            "text/plain": [
              "<seaborn.axisgrid.FacetGrid at 0x7f34a8db4790>"
            ]
          },
          "metadata": {},
          "execution_count": 64
        },
        {
          "output_type": "display_data",
          "data": {
            "text/plain": [
              "<Figure size 360x360 with 1 Axes>"
            ],
            "image/png": "[encoded data removed]"
          },
          "metadata": {
            "needs_background": "light"
          }
        }
      ],
      "source": [
        "ax = sns.displot(x=idades,\n",
        "                 #hist=True,\n",
        "                 kde=True,\n",
        "                 facet_kws = dict(margin_titles=True,despine=False),\n",
        "                 bins=n_bins, \n",
        "                 linewidth=0.7,\n",
        "                )\n",
        "\n",
        "ax.set(xlabel='idades(anos)', ylabel='Contagem de pessoas', title='Distribuição')"
      ],
      "id": "MI0VUHvmDfcr"
    },
    {
      "cell_type": "markdown",
      "source": [
        "*Grafico de Distribuição altura:*"
      ],
      "metadata": {
        "id": "Cajho8qOE4aF"
      },
      "id": "Cajho8qOE4aF"
    },
    {
      "cell_type": "code",
      "execution_count": null,
      "id": "6b620ccf",
      "metadata": {
        "id": "6b620ccf",
        "colab": {
          "base_uri": "https://localhost:8080/",
          "height": 416
        },
        "outputId": "6258f632-56d8-49d3-93de-87dc621f6f01"
      },
      "outputs": [
        {
          "output_type": "execute_result",
          "data": {
            "text/plain": [
              "<seaborn.axisgrid.FacetGrid at 0x7f34a8a19c90>"
            ]
          },
          "metadata": {},
          "execution_count": 65
        },
        {
          "output_type": "display_data",
          "data": {
            "text/plain": [
              "<Figure size 360x360 with 1 Axes>"
            ],
            "image/png": "[encoded data removed]"
          },
          "metadata": {
            "needs_background": "light"
          }
        }
      ],
      "source": [
        "ax = sns.displot(x=alturas,\n",
        "                 #hist=True,\n",
        "                 kde=True,\n",
        "                 facet_kws = dict(margin_titles=True,despine=False),\n",
        "                 bins=n_bins, \n",
        "                 linewidth=0.7,\n",
        "                )\n",
        "\n",
        "ax.set(xlabel='Altura(metros)', ylabel='Contagem de pessoas', title='Distribuição')"
      ]
    },
    {
      "cell_type": "markdown",
      "id": "9d8b8726",
      "metadata": {
        "id": "9d8b8726"
      },
      "source": [
        "## 2.2 - Densidade Acumulada (ou Distribuição Acumulada)"
      ]
    },
    {
      "cell_type": "markdown",
      "source": [
        "*Grafico de Densidade / Distribuição Acumulada idade:*"
      ],
      "metadata": {
        "id": "Ecdh-Wl8ITzF"
      },
      "id": "Ecdh-Wl8ITzF"
    },
    {
      "cell_type": "code",
      "execution_count": null,
      "id": "4b3e6b73",
      "metadata": {
        "id": "4b3e6b73",
        "colab": {
          "base_uri": "https://localhost:8080/",
          "height": 411
        },
        "outputId": "07e06936-9966-448c-8db4-6c31a0cbf885"
      },
      "outputs": [
        {
          "output_type": "execute_result",
          "data": {
            "text/plain": [
              "<seaborn.axisgrid.FacetGrid at 0x7f34a8dac610>"
            ]
          },
          "metadata": {},
          "execution_count": 57
        },
        {
          "output_type": "display_data",
          "data": {
            "text/plain": [
              "<Figure size 360x360 with 1 Axes>"
            ],
            "image/png": "[encoded data removed]"
          },
          "metadata": {
            "needs_background": "light"
          }
        }
      ],
      "source": [
        "ax = sns.displot(x= idades,\n",
        "            kind=\"ecdf\",\n",
        "            facet_kws = dict(margin_titles=True,despine=False),\n",
        "            linewidth=2)\n",
        "\n",
        "ax.set(xlabel='valor da variável', ylabel='Proporção do Total', title='Densidade Acumulada')"
      ]
    },
    {
      "cell_type": "markdown",
      "source": [
        "*Grafico de Densidade / Distribuição Acumulada altura:*"
      ],
      "metadata": {
        "id": "2L0xTtkeIgJf"
      },
      "id": "2L0xTtkeIgJf"
    },
    {
      "cell_type": "code",
      "source": [
        "ax = sns.displot(x= alturas,\n",
        "            kind=\"ecdf\",\n",
        "            facet_kws = dict(margin_titles=True,despine=False),\n",
        "            linewidth=2)\n",
        "\n",
        "ax.set(xlabel='valor da variável', ylabel='Proporção do Total', title='Densidade Acumulada')"
      ],
      "metadata": {
        "id": "VDtM1IGkH_NT",
        "colab": {
          "base_uri": "https://localhost:8080/",
          "height": 411
        },
        "outputId": "e013a073-c39d-4d61-80b1-114e2a6fea5d"
      },
      "id": "VDtM1IGkH_NT",
      "execution_count": null,
      "outputs": [
        {
          "output_type": "execute_result",
          "data": {
            "text/plain": [
              "<seaborn.axisgrid.FacetGrid at 0x7f34a8d78a10>"
            ]
          },
          "metadata": {},
          "execution_count": 58
        },
        {
          "output_type": "display_data",
          "data": {
            "text/plain": [
              "<Figure size 360x360 with 1 Axes>"
            ],
            "image/png": "[encoded data removed]"
          },
          "metadata": {
            "needs_background": "light"
          }
        }
      ]
    },
    {
      "cell_type": "markdown",
      "id": "b339a522",
      "metadata": {
        "id": "b339a522"
      },
      "source": [
        "## 2.3 - Dispersão\n",
        "*Grafico de Disperção :*"
      ]
    },
    {
      "cell_type": "code",
      "execution_count": null,
      "id": "8d466619",
      "metadata": {
        "id": "8d466619",
        "colab": {
          "base_uri": "https://localhost:8080/",
          "height": 285
        },
        "outputId": "72b99743-416a-45ec-fe67-c1b465443e1a"
      },
      "outputs": [
        {
          "output_type": "display_data",
          "data": {
            "text/plain": [
              "<Figure size 432x288 with 1 Axes>"
            ],
            "image/png": "[encoded data removed]"
          },
          "metadata": {
            "needs_background": "light"
          }
        }
      ],
      "source": [
        "plt.scatter(idades, alturas, c='green', alpha=0.5)\n",
        "plt.xlabel('Idade(anos')\n",
        "plt.ylabel('Altura(metros)')\n",
        "plt.grid()"
      ]
    },
    {
      "cell_type": "markdown",
      "id": "b697366e",
      "metadata": {
        "id": "b697366e"
      },
      "source": [
        "## 2.4 - Dispersão e Distribuição"
      ]
    },
    {
      "cell_type": "code",
      "execution_count": null,
      "id": "49a5d712",
      "metadata": {
        "id": "49a5d712",
        "colab": {
          "base_uri": "https://localhost:8080/",
          "height": 378
        },
        "outputId": "19c0fdbf-8bbf-488c-8c49-f71607b7de5c"
      },
      "outputs": [
        {
          "output_type": "execute_result",
          "data": {
            "text/plain": [
              "<seaborn.axisgrid.JointGrid at 0x7f34a8f4fd90>"
            ]
          },
          "metadata": {},
          "execution_count": 56
        },
        {
          "output_type": "display_data",
          "data": {
            "text/plain": [
              "<Figure size 360x360 with 3 Axes>"
            ],
            "image/png": "[encoded data removed]"
          },
          "metadata": {
            "needs_background": "light"
          }
        }
      ],
      "source": [
        "sns.jointplot(x = idades,\n",
        "              y = alturas,\n",
        "              height=5, \n",
        "              ratio=2,\n",
        "              marginal_ticks=True,\n",
        "              kind=\"reg\"\n",
        "             )"
      ]
    },
    {
      "cell_type": "markdown",
      "id": "2ec288ba",
      "metadata": {
        "id": "2ec288ba"
      },
      "source": [
        "-----------------------------"
      ]
    }
  ],
  "metadata": {
    "kernelspec": {
      "display_name": "Python 3",
      "language": "python",
      "name": "python3"
    },
    "language_info": {
      "codemirror_mode": {
        "name": "ipython",
        "version": 3
      },
      "file_extension": ".py",
      "mimetype": "text/x-python",
      "name": "python",
      "nbconvert_exporter": "python",
      "pygments_lexer": "ipython3",
      "version": "3.9.5"
    },
    "colab": {
      "provenance": [],
      "collapsed_sections": [],
      "include_colab_link": true
    }
  },
  "nbformat": 4,
  "nbformat_minor": 5
}